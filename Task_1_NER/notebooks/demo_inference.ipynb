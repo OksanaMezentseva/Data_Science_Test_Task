{
 "cells": [
  {
   "cell_type": "code",
   "execution_count": null,
   "metadata": {},
   "outputs": [],
   "source": [
    "from transformers import AutoTokenizer, AutoModelForTokenClassification\n",
    "import torch\n",
    "import pandas as pd\n",
    "import sys\n",
    "import os\n",
    "sys.path.append(os.path.abspath(\"/home/oks/VSCode_Projects/Data_Science_Test_Task/Task_1_NER/src\"))\n",
    "from data_preprocessing import load_and_process_dataset\n"
   ]
  },
  {
   "cell_type": "code",
   "execution_count": null,
   "metadata": {},
   "outputs": [],
   "source": [
    "\n",
    "model_weights = \"/home/oks/VSCode_Projects/Data_Science_Test_Task/Task_1_NER/model_weights\"\n",
    "model_tokenizer = \"/home/oks/VSCode_Projects/Data_Science_Test_Task/Task_1_NER/tokenizer\"\n",
    "tokenizer = AutoTokenizer.from_pretrained(model_tokenizer)\n",
    "model = AutoModelForTokenClassification.from_pretrained(model_weights)\n"
   ]
  },
  {
   "cell_type": "code",
   "execution_count": null,
   "metadata": {},
   "outputs": [],
   "source": [
    "from transformers import AutoTokenizer, AutoModelForTokenClassification\n",
    "import pandas as pd\n",
    "\n",
    "# # Paths to tokenizer and model weights\n",
    "# model_weights = \"/home/oks/VSCode_Projects/Data_Science_Test_Task/Task_1_NER/model_weights\"\n",
    "# model_tokenizer = \"/home/oks/VSCode_Projects/Data_Science_Test_Task/Task_1_NER/tokenizer\"\n",
    "\n",
    "# # Load tokenizer and model\n",
    "# tokenizer = AutoTokenizer.from_pretrained(model_tokenizer)\n",
    "# model = AutoModelForTokenClassification.from_pretrained(model_weights)\n",
    "\n",
    "# Load the dataset\n",
    "dataset_path = \"/home/oks/VSCode_Projects/Data_Science_Test_Task/Task_1_NER/data/mountains_ner.csv\"\n",
    "dataset_df = pd.read_csv(dataset_path)\n",
    "\n"
   ]
  },
  {
   "cell_type": "code",
   "execution_count": null,
   "metadata": {},
   "outputs": [],
   "source": [
    "example = processed_df.iloc[1]  # Second element (index 1)\n",
    "print(\"Sentence:\", example['sentence'])\n",
    "print(\"Tokens:\", example['tokens'])\n",
    "print(\"Labels:\", example['labels'])"
   ]
  },
  {
   "cell_type": "code",
   "execution_count": null,
   "metadata": {},
   "outputs": [],
   "source": [
    "# Tokenize the example\n",
    "tokens = eval(example['tokens'])  # Convert string to list\n",
    "inputs = tokenizer(\n",
    "    tokens, \n",
    "    is_split_into_words=True, \n",
    "    truncation=True, \n",
    "    padding=True, \n",
    "    return_tensors=\"pt\"\n",
    ")\n",
    "\n",
    "# Print tokenized inputs\n",
    "print(\"Tokenized Input IDs:\", inputs[\"input_ids\"])\n",
    "print(\"Word IDs:\", inputs.word_ids())\n",
    "print(\"Tokens:\", tokenizer.convert_ids_to_tokens(inputs[\"input_ids\"].squeeze()))\n"
   ]
  }
 ],
 "metadata": {
  "kernelspec": {
   "display_name": "venv",
   "language": "python",
   "name": "python3"
  },
  "language_info": {
   "codemirror_mode": {
    "name": "ipython",
    "version": 3
   },
   "file_extension": ".py",
   "mimetype": "text/x-python",
   "name": "python",
   "nbconvert_exporter": "python",
   "pygments_lexer": "ipython3",
   "version": "3.10.12"
  }
 },
 "nbformat": 4,
 "nbformat_minor": 2
}
