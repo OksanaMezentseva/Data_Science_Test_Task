{
 "cells": [
  {
   "cell_type": "code",
   "execution_count": null,
   "metadata": {
    "vscode": {
     "languageId": "plaintext"
    }
   },
   "outputs": [],
   "source": [
    "def predict(text):\n",
    "    tokens = tokenizer(text, return_tensors=\"pt\")\n",
    "    outputs = model(**tokens)\n",
    "    predictions = outputs.logits.argmax(dim=-1).squeeze().tolist()\n",
    "    return predictions"
   ]
  }
 ],
 "metadata": {
  "language_info": {
   "name": "python"
  }
 },
 "nbformat": 4,
 "nbformat_minor": 2
}
